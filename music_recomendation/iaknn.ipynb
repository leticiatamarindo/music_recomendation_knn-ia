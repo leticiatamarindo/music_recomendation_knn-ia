{
 "cells": [
  {
   "cell_type": "code",
   "execution_count": 2,
   "metadata": {},
   "outputs": [
    {
     "name": "stdout",
     "output_type": "stream",
     "text": [
      "Modelos salvos em models/\n"
     ]
    }
   ],
   "source": [
    "import os\n",
    "import pandas as pd\n",
    "from sklearn.preprocessing import StandardScaler\n",
    "from sklearn.neighbors import NearestNeighbors\n",
    "from sklearn.decomposition import PCA\n",
    "import joblib\n",
    "\n",
    "def clean_numeric_values(df):\n",
    "    # Função para limpar formatos numéricos inconsistentes\n",
    "    for col in df.columns:\n",
    "        if df[col].dtype == 'object':  # verificar se a coluna é do tipo objeto (string)\n",
    "            df[col] = df[col].str.replace(',', '.')\n",
    "    return df\n",
    "\n",
    "def treinar_modelo_knn(file_path, n_neighbors=20, n_components=2, save_path=None):\n",
    "    # Carregar dados com especificação do separador decimal\n",
    "    df = pd.read_csv(file_path, decimal=',')\n",
    "\n",
    "    # Limpar formatos numéricos inconsistentes\n",
    "    df = clean_numeric_values(df)\n",
    "\n",
    "    # Selecionar apenas as colunas numéricas relevantes para o KNN\n",
    "    features = ['track_genre', 'popularity']\n",
    "\n",
    "    # Normalizar os dados\n",
    "    scaler = StandardScaler()\n",
    "    df_scaled = scaler.fit_transform(df[features])\n",
    "\n",
    "    # Aplicar PCA para reduzir a dimensionalidade\n",
    "    pca = PCA(n_components=n_components)\n",
    "    df_pca = pca.fit_transform(df_scaled)\n",
    "\n",
    "    # Treinar o modelo KNN com os dados reduzidos\n",
    "    knn = NearestNeighbors(n_neighbors=n_neighbors, algorithm='auto')\n",
    "    knn.fit(df_pca)\n",
    "    \n",
    "    # Salvar os modelos treinados usando joblib\n",
    "    if save_path:\n",
    "        os.makedirs(save_path, exist_ok=True)  # cria o diretório se não existir\n",
    "        joblib.dump(knn, os.path.join(save_path, 'knn_model.pkl'))\n",
    "        joblib.dump(scaler, os.path.join(save_path, 'scaler.pkl'))\n",
    "        joblib.dump(pca, os.path.join(save_path, 'pca_model.pkl'))\n",
    "        print(f\"Modelos salvos em {save_path}\")\n",
    "    \n",
    "    return df, features\n",
    "\n",
    "# Exemplo de uso\n",
    "file_path = 'datasettest.csv'  # caminho do CSV\n",
    "save_path = 'models/'  # diretório onde os modelos serão salvos\n",
    "df, features = treinar_modelo_knn(file_path, save_path=save_path)\n"
   ]
  }
 ],
 "metadata": {
  "kernelspec": {
   "display_name": "Python 3",
   "language": "python",
   "name": "python3"
  },
  "language_info": {
   "codemirror_mode": {
    "name": "ipython",
    "version": 3
   },
   "file_extension": ".py",
   "mimetype": "text/x-python",
   "name": "python",
   "nbconvert_exporter": "python",
   "pygments_lexer": "ipython3",
   "version": "3.10.5"
  }
 },
 "nbformat": 4,
 "nbformat_minor": 2
}
